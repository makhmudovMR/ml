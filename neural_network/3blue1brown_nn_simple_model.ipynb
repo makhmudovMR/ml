{
 "cells": [
  {
   "cell_type": "code",
   "execution_count": 49,
   "metadata": {
    "collapsed": true
   },
   "outputs": [],
   "source": [
    "import math\n",
    "\n",
    "def af(x):\n",
    "    return 1 / (1 + math.e**-x)\n",
    "\n",
    "class nn:\n",
    "    \n",
    "    def __init__(self, w1,w2):\n",
    "        self.w1 = w1\n",
    "        self.w2 = w2\n",
    "        \n",
    "        self.lr = 0.01\n",
    "        \n",
    "    def forward(self, input):\n",
    "        l2_input = input * self.w1\n",
    "        print(\"l2_input:\", l2_input)\n",
    "        l2_output = af(l2_input)\n",
    "        print(\"l2_output:\", l2_output)\n",
    "        \n",
    "        l3_input = l2_output * self.w2\n",
    "        print(\"l3_input:\", l3_input)\n",
    "        l3_output = af(l3_input)\n",
    "        print(\"l3_output:\", l3_output)\n",
    "        \n",
    "        \n",
    "        return l3_output\n",
    "    \n",
    "    def train(self, input, target):\n",
    "        l2_input = input * self.w1\n",
    "        l2_output = af(l2_input)\n",
    "        \n",
    "        l3_input = l2_output * self.w2\n",
    "        result = af(l3_input)\n",
    "        \n",
    "        output_error = (input - target)\n",
    "        hidden1_error = self.w2 * output_error\n",
    "        \n",
    "        \n",
    "        grad_1 = (input - target) * (result * (1 - result)) * l2_output\n",
    "        self.w2 = self.w2 - self.lr * grad_1\n",
    "        \n",
    "        \n",
    "        grad_2 = hidden1_error * (l2_output * (1 - l2_output)) * input\n",
    "        self.w1 = self.w1 - self.lr * grad_2\n",
    "        pass"
   ]
  },
  {
   "cell_type": "code",
   "execution_count": 50,
   "metadata": {},
   "outputs": [],
   "source": [
    "nn = nn(0.4, 0.3)"
   ]
  },
  {
   "cell_type": "code",
   "execution_count": 51,
   "metadata": {},
   "outputs": [
    {
     "name": "stdout",
     "output_type": "stream",
     "text": [
      "l2_input: 0.0\n",
      "l2_output: 0.5\n",
      "l3_input: 0.15\n",
      "l3_output: 0.5374298453437496\n"
     ]
    },
    {
     "data": {
      "text/plain": [
       "0.5374298453437496"
      ]
     },
     "execution_count": 51,
     "metadata": {},
     "output_type": "execute_result"
    }
   ],
   "source": [
    "nn.forward(0)"
   ]
  },
  {
   "cell_type": "code",
   "execution_count": 52,
   "metadata": {},
   "outputs": [],
   "source": [
    "for i in range(10000):\n",
    "    nn.train(0, 1)"
   ]
  },
  {
   "cell_type": "code",
   "execution_count": 53,
   "metadata": {},
   "outputs": [
    {
     "name": "stdout",
     "output_type": "stream",
     "text": [
      "l2_input: 0.4\n",
      "l2_output: 0.598687660112452\n",
      "l3_input: 3.5685205596846354\n",
      "l3_output: 0.9725757567659559\n"
     ]
    },
    {
     "data": {
      "text/plain": [
       "0.9725757567659559"
      ]
     },
     "execution_count": 53,
     "metadata": {},
     "output_type": "execute_result"
    }
   ],
   "source": [
    "nn.forward(1)"
   ]
  },
  {
   "cell_type": "code",
   "execution_count": null,
   "metadata": {
    "collapsed": true
   },
   "outputs": [],
   "source": []
  }
 ],
 "metadata": {
  "kernelspec": {
   "display_name": "Python 3",
   "language": "python",
   "name": "python3"
  },
  "language_info": {
   "codemirror_mode": {
    "name": "ipython",
    "version": 3
   },
   "file_extension": ".py",
   "mimetype": "text/x-python",
   "name": "python",
   "nbconvert_exporter": "python",
   "pygments_lexer": "ipython3",
   "version": "3.6.3"
  }
 },
 "nbformat": 4,
 "nbformat_minor": 2
}
