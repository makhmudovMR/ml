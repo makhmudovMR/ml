{
 "cells": [
  {
   "cell_type": "code",
   "execution_count": 11,
   "metadata": {
    "collapsed": true
   },
   "outputs": [],
   "source": [
    "import math\n",
    "\n",
    "def af(x):\n",
    "    return 1 / (1 + math.e**-x)\n",
    "\n",
    "class nn:\n",
    "    \n",
    "    def __init__(self, w1,w2,w3):\n",
    "        self.w1 = w1\n",
    "        self.w2 = w2\n",
    "        self.w3 = w3\n",
    "        \n",
    "    def forward(self, input):\n",
    "        l2_input = input * self.w1\n",
    "        print(\"l2_input:\", l2_input)\n",
    "        l2_output = af(l2_input)\n",
    "        print(\"l2_output:\", l2_output)\n",
    "        \n",
    "        l3_input = l2_output * self.w2\n",
    "        print(\"l3_input:\", l3_input)\n",
    "        l3_output = af(l3_input)\n",
    "        print(\"l3_output:\", l3_output)\n",
    "        \n",
    "        l4_input = l3_output * self.w3\n",
    "        print(\"l4_input:\", l4_input)\n",
    "        l4_output = af(l4_input)\n",
    "        print(\"l4_output\",l4_output)\n",
    "        \n",
    "        return l4_output\n",
    "    \n",
    "    def train(self, input, target):\n",
    "        pass"
   ]
  },
  {
   "cell_type": "code",
   "execution_count": 12,
   "metadata": {},
   "outputs": [],
   "source": [
    "nn = nn(0.4, 0.3, 0.6)"
   ]
  },
  {
   "cell_type": "code",
   "execution_count": 13,
   "metadata": {},
   "outputs": [
    {
     "name": "stdout",
     "output_type": "stream",
     "text": [
      "l2_input: 0.4\n",
      "l2_output: 0.598687660112452\n",
      "l3_input: 0.1796062980337356\n",
      "l3_output: 0.5447812581192126\n",
      "l4_input: 0.32686875487152756\n",
      "l4_output 0.5809973021924011\n"
     ]
    },
    {
     "data": {
      "text/plain": [
       "0.5809973021924011"
      ]
     },
     "execution_count": 13,
     "metadata": {},
     "output_type": "execute_result"
    }
   ],
   "source": [
    "nn.forward(1)"
   ]
  },
  {
   "cell_type": "code",
   "execution_count": null,
   "metadata": {
    "collapsed": true
   },
   "outputs": [],
   "source": []
  }
 ],
 "metadata": {
  "kernelspec": {
   "display_name": "Python 3",
   "language": "python",
   "name": "python3"
  },
  "language_info": {
   "codemirror_mode": {
    "name": "ipython",
    "version": 3
   },
   "file_extension": ".py",
   "mimetype": "text/x-python",
   "name": "python",
   "nbconvert_exporter": "python",
   "pygments_lexer": "ipython3",
   "version": "3.6.3"
  }
 },
 "nbformat": 4,
 "nbformat_minor": 2
}
