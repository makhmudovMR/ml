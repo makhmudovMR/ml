{
 "cells": [
  {
   "cell_type": "markdown",
   "metadata": {},
   "source": [
    "<img src='bp_algorithm.png'>"
   ]
  },
  {
   "cell_type": "code",
   "execution_count": 68,
   "metadata": {
    "collapsed": true
   },
   "outputs": [],
   "source": [
    "import numpy as np\n",
    "w_i_h = np.random.rand(3,2)\n",
    "w_h_o = np.random.rand(2,3)\n",
    "\n",
    "def sigmoid(x):\n",
    "    return 1 / (1 + np.exp(-x))\n",
    "\n",
    "def sigmoid_deriv(x):\n",
    "    return sigmoid(x) * (1 - sigmoid(x))\n",
    "\n",
    "lr = 0.1"
   ]
  },
  {
   "cell_type": "code",
   "execution_count": 69,
   "metadata": {
    "scrolled": true
   },
   "outputs": [
    {
     "data": {
      "text/plain": [
       "array([[ 0.44506856,  0.85799088],\n",
       "       [ 0.89835655,  0.79935786],\n",
       "       [ 0.16874942,  0.85356893]])"
      ]
     },
     "execution_count": 69,
     "metadata": {},
     "output_type": "execute_result"
    }
   ],
   "source": [
    "w_i_h"
   ]
  },
  {
   "cell_type": "code",
   "execution_count": 70,
   "metadata": {},
   "outputs": [
    {
     "data": {
      "text/plain": [
       "array([[ 0.25919602,  0.26252708,  0.94368872],\n",
       "       [ 0.89170853,  0.42793014,  0.87620351]])"
      ]
     },
     "execution_count": 70,
     "metadata": {},
     "output_type": "execute_result"
    }
   ],
   "source": [
    "w_h_o"
   ]
  },
  {
   "cell_type": "code",
   "execution_count": 71,
   "metadata": {
    "collapsed": true
   },
   "outputs": [],
   "source": [
    "'''Input'''\n",
    "x = np.array([1,1],ndmin=2).T\n",
    "\n",
    "'''target'''\n",
    "\n",
    "y = np.array([0,1], ndmin=2).T"
   ]
  },
  {
   "cell_type": "code",
   "execution_count": 72,
   "metadata": {},
   "outputs": [
    {
     "name": "stdout",
     "output_type": "stream",
     "text": [
      "[[ 1.30305945]\n",
      " [ 1.69771442]\n",
      " [ 1.02231835]]\n",
      "[[ 0.78634943]\n",
      " [ 0.84523599]\n",
      " [ 0.73542394]]\n",
      "----------------------------\n",
      "[[ 1.11972726]\n",
      " [ 1.70727749]]\n",
      "[[ 0.75393812]\n",
      " [ 0.84648283]]\n"
     ]
    }
   ],
   "source": [
    "'''forward propagation'''\n",
    "hidden_input = np.dot(w_i_h, x)\n",
    "print(hidden_input)\n",
    "hidden_output = sigmoid(hidden_input)\n",
    "print(hidden_output)\n",
    "\n",
    "print('----------------------------')\n",
    "\n",
    "final_input = np.dot(w_h_o, hidden_output)\n",
    "print(final_input)\n",
    "final_output = sigmoid(final_input)\n",
    "print(final_output)"
   ]
  },
  {
   "cell_type": "markdown",
   "metadata": {},
   "source": [
    "<hr>\n",
    "# Backpropragation"
   ]
  },
  {
   "cell_type": "code",
   "execution_count": 73,
   "metadata": {},
   "outputs": [
    {
     "name": "stdout",
     "output_type": "stream",
     "text": [
      "[[ 0.  0.]\n",
      " [ 0.  0.]\n",
      " [ 0.  0.]]\n",
      "\n",
      "[[ 0.  0.  0.]\n",
      " [ 0.  0.  0.]]\n"
     ]
    }
   ],
   "source": [
    "'''Backpropagation!!!'''\n",
    "'''\n",
    "Создаем нулевую матрицу, благодаря которой будем изменять веса нейросети\n",
    "'''\n",
    "nw_1 = np.zeros(w_i_h.shape)\n",
    "nw_2 = np.zeros(w_h_o.shape)\n",
    "print(nw_1, end='\\n\\n')\n",
    "print(nw_2)"
   ]
  },
  {
   "cell_type": "code",
   "execution_count": 74,
   "metadata": {},
   "outputs": [],
   "source": [
    "'''\n",
    "Вычисляем ошибки на нодах всех слоёв кроме первого слоя\n",
    "'''\n",
    "# delta_out = final_output - y * sigmoid_deriv(final_output)\n",
    "delta_out = final_output - y\n",
    "delta_hidd = np.dot(w_h_o.T, delta_out) * sigmoid_deriv(hidden_input)\n"
   ]
  },
  {
   "cell_type": "code",
   "execution_count": 75,
   "metadata": {},
   "outputs": [
    {
     "name": "stdout",
     "output_type": "stream",
     "text": [
      "[[ 0.75393812]\n",
      " [-0.15351717]]\n",
      "\n",
      "[[ 0.00983247]\n",
      " [ 0.01729788]\n",
      " [ 0.11226439]]\n"
     ]
    }
   ],
   "source": [
    "print(delta_out, end='\\n\\n')\n",
    "print(delta_hidd)"
   ]
  },
  {
   "cell_type": "code",
   "execution_count": 76,
   "metadata": {},
   "outputs": [
    {
     "data": {
      "text/plain": [
       "array([[ 0.59285882,  0.63725564,  0.55446415],\n",
       "       [-0.12071814, -0.12975824, -0.1129002 ]])"
      ]
     },
     "execution_count": 76,
     "metadata": {},
     "output_type": "execute_result"
    }
   ],
   "source": [
    "fornabla_h_o = np.dot(delta_out, hidden_output.T)\n",
    "fornabla_h_o"
   ]
  },
  {
   "cell_type": "code",
   "execution_count": 77,
   "metadata": {},
   "outputs": [
    {
     "data": {
      "text/plain": [
       "array([[ 0.00983247,  0.00983247],\n",
       "       [ 0.01729788,  0.01729788],\n",
       "       [ 0.11226439,  0.11226439]])"
      ]
     },
     "execution_count": 77,
     "metadata": {},
     "output_type": "execute_result"
    }
   ],
   "source": [
    "fornabla_i_h = np.dot(delta_hidd, x.T)\n",
    "fornabla_i_h"
   ]
  },
  {
   "cell_type": "code",
   "execution_count": 78,
   "metadata": {},
   "outputs": [
    {
     "data": {
      "text/plain": [
       "array([[ 0.00983247,  0.00983247],\n",
       "       [ 0.01729788,  0.01729788],\n",
       "       [ 0.11226439,  0.11226439]])"
      ]
     },
     "execution_count": 78,
     "metadata": {},
     "output_type": "execute_result"
    }
   ],
   "source": [
    "nw_1 = nw_1 + fornabla_i_h\n",
    "nw_1"
   ]
  },
  {
   "cell_type": "code",
   "execution_count": 79,
   "metadata": {},
   "outputs": [
    {
     "data": {
      "text/plain": [
       "array([[ 0.59285882,  0.63725564,  0.55446415],\n",
       "       [-0.12071814, -0.12975824, -0.1129002 ]])"
      ]
     },
     "execution_count": 79,
     "metadata": {},
     "output_type": "execute_result"
    }
   ],
   "source": [
    "nw_2 = nw_2 + fornabla_h_o\n",
    "nw_2"
   ]
  },
  {
   "cell_type": "markdown",
   "metadata": {},
   "source": [
    "<hr>"
   ]
  },
  {
   "cell_type": "code",
   "execution_count": 80,
   "metadata": {},
   "outputs": [
    {
     "data": {
      "text/plain": [
       "array([[ 0.44408532,  0.85700763],\n",
       "       [ 0.89662677,  0.79762808],\n",
       "       [ 0.15752299,  0.84234249]])"
      ]
     },
     "execution_count": 80,
     "metadata": {},
     "output_type": "execute_result"
    }
   ],
   "source": [
    "w_i_h = w_i_h + -lr * nw_1\n",
    "w_i_h"
   ]
  },
  {
   "cell_type": "code",
   "execution_count": 81,
   "metadata": {},
   "outputs": [
    {
     "data": {
      "text/plain": [
       "array([[ 0.19991014,  0.19880152,  0.88824231],\n",
       "       [ 0.90378035,  0.44090596,  0.88749353]])"
      ]
     },
     "execution_count": 81,
     "metadata": {},
     "output_type": "execute_result"
    }
   ],
   "source": [
    "w_h_o = w_h_o + -lr * nw_2\n",
    "w_h_o"
   ]
  },
  {
   "cell_type": "code",
   "execution_count": null,
   "metadata": {
    "collapsed": true
   },
   "outputs": [],
   "source": []
  }
 ],
 "metadata": {
  "kernelspec": {
   "display_name": "Python 3",
   "language": "python",
   "name": "python3"
  },
  "language_info": {
   "codemirror_mode": {
    "name": "ipython",
    "version": 3
   },
   "file_extension": ".py",
   "mimetype": "text/x-python",
   "name": "python",
   "nbconvert_exporter": "python",
   "pygments_lexer": "ipython3",
   "version": "3.6.3"
  }
 },
 "nbformat": 4,
 "nbformat_minor": 2
}
