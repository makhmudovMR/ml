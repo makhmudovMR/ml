{
 "cells": [
  {
   "cell_type": "code",
   "execution_count": 2,
   "metadata": {},
   "outputs": [],
   "source": [
    "import numpy as np\n",
    "import matplotlib.pyplot as plt\n",
    "import math\n",
    "from sklearn.datasets.samples_generator import make_blobs\n",
    "from collections import Counter\n",
    "np.random.seed(1)"
   ]
  },
  {
   "cell_type": "code",
   "execution_count": 8,
   "metadata": {
    "collapsed": true
   },
   "outputs": [],
   "source": [
    "(X, y) = make_blobs(n_samples=50, n_features=2, centers=2, cluster_std=1.95, random_state=50)"
   ]
  },
  {
   "cell_type": "code",
   "execution_count": 9,
   "metadata": {},
   "outputs": [
    {
     "data": {
      "text/plain": [
       "50"
      ]
     },
     "execution_count": 9,
     "metadata": {},
     "output_type": "execute_result"
    }
   ],
   "source": [
    "len(X)"
   ]
  },
  {
   "cell_type": "code",
   "execution_count": 10,
   "metadata": {},
   "outputs": [
    {
     "data": {
      "image/png": "[encoded data removed]",
      "text/plain": [
       "<matplotlib.figure.Figure at 0x2142468f668>"
      ]
     },
     "metadata": {},
     "output_type": "display_data"
    }
   ],
   "source": [
    "plt.scatter(X[:, 0], X[:, 1], marker='o', c=y)\n",
    "plt.show()"
   ]
  },
  {
   "cell_type": "code",
   "execution_count": 12,
   "metadata": {},
   "outputs": [
    {
     "data": {
      "image/png": "[encoded data removed]",
      "text/plain": [
       "<matplotlib.figure.Figure at 0x214246ba048>"
      ]
     },
     "metadata": {},
     "output_type": "display_data"
    }
   ],
   "source": [
    "prediction_points=[[-2,-4],[-3,-6],[1,0],[6,4],[-6,4]]\n",
    "prediction_points = np.array(prediction_points)\n",
    "plt.scatter(X[:, 0], X[:, 1], marker='o', c=y)\n",
    "plt.scatter(prediction_points[:, 0], prediction_points[:, 1], marker='o')\n",
    "plt.show()"
   ]
  },
  {
   "cell_type": "code",
   "execution_count": 21,
   "metadata": {
    "collapsed": true
   },
   "outputs": [],
   "source": [
    "def get_eculidean_distance(point,k):\n",
    "    #вычисляем дистанцию точки от всех остальных точек в выборке\n",
    "    euc_distance = np.sqrt(np.sum((X - point)**2 , axis=1))\n",
    "    # возвращаем самые близки точки\n",
    "    return np.argsort(euc_distance)[0:k]"
   ]
  },
  {
   "cell_type": "code",
   "execution_count": 22,
   "metadata": {
    "collapsed": true
   },
   "outputs": [],
   "source": [
    "def predict(prediction_points,k):\n",
    "    points_labels=[]\n",
    "    \n",
    "    for point in prediction_points:\n",
    "        distances=get_eculidean_distance(point,k)\n",
    "        \n",
    "        results=[]\n",
    "        for index in distances:\n",
    "            results.append(y[index])\n",
    "        \n",
    "        label=Counter(results).most_common(1)\n",
    "        points_labels.append([point,label[0][0]])\n",
    "        \n",
    "    return points_labels"
   ]
  },
  {
   "cell_type": "code",
   "execution_count": 23,
   "metadata": {},
   "outputs": [
    {
     "name": "stdout",
     "output_type": "stream",
     "text": [
      "Point =  [-2 -4]\n",
      "Class =  0\n",
      "\n",
      "Point =  [-3 -6]\n",
      "Class =  0\n",
      "\n",
      "Point =  [1 0]\n",
      "Class =  0\n",
      "\n",
      "Point =  [6 4]\n",
      "Class =  0\n",
      "\n",
      "Point =  [-6  4]\n",
      "Class =  1\n",
      "\n"
     ]
    }
   ],
   "source": [
    "\n",
    "results=predict(prediction_points,10)\n",
    "for result in results:\n",
    "    print(\"Point = \",result[0])\n",
    "    print(\"Class = \",result[1])\n",
    "    print()"
   ]
  },
  {
   "cell_type": "code",
   "execution_count": 24,
   "metadata": {},
   "outputs": [
    {
     "name": "stdout",
     "output_type": "stream",
     "text": [
      "[31 46 40]\n"
     ]
    }
   ],
   "source": [
    "print(get_eculidean_distance([-3,-4], 3))"
   ]
  },
  {
   "cell_type": "code",
   "execution_count": null,
   "metadata": {
    "collapsed": true
   },
   "outputs": [],
   "source": []
  }
 ],
 "metadata": {
  "kernelspec": {
   "display_name": "Python 3",
   "language": "python",
   "name": "python3"
  },
  "language_info": {
   "codemirror_mode": {
    "name": "ipython",
    "version": 3
   },
   "file_extension": ".py",
   "mimetype": "text/x-python",
   "name": "python",
   "nbconvert_exporter": "python",
   "pygments_lexer": "ipython3",
   "version": "3.6.3"
  }
 },
 "nbformat": 4,
 "nbformat_minor": 2
}
